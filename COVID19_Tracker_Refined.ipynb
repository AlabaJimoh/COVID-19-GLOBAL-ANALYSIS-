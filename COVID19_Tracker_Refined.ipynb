{
 "cells": [
  {
   "cell_type": "markdown",
   "id": "fe209812",
   "metadata": {},
   "source": [
    "# COVID-19 Global Data Tracker\n",
    "This notebook analyzes global COVID-19 trends in cases, deaths, and vaccinations using data from [Our World in Data](https://ourworldindata.org/coronavirus)."
   ]
  },
  {
   "cell_type": "code",
   "execution_count": null,
   "id": "103be767",
   "metadata": {},
   "outputs": [],
   "source": [
    "import pandas as pd\n",
    "import numpy as np\n",
    "import matplotlib.pyplot as plt\n",
    "import seaborn as sns\n",
    "import plotly.express as px\n",
    "from datetime import datetime\n",
    "\n",
    "sns.set(style='whitegrid')"
   ]
  },
  {
   "cell_type": "code",
   "execution_count": null,
   "id": "1146a7f4",
   "metadata": {},
   "outputs": [],
   "source": [
    "# Load the dataset\n",
    "df = pd.read_csv('owid-covid-data.csv')\n",
    "\n",
    "# Preview the dataset\n",
    "print(df.head())\n",
    "print(df.columns)\n",
    "print(df.isnull().sum())"
   ]
  },
  {
   "cell_type": "code",
   "execution_count": null,
   "id": "6d06981f",
   "metadata": {},
   "outputs": [],
   "source": [
    "# Filter countries of interest\n",
    "countries = ['Kenya', 'United States', 'India']\n",
    "df_filtered = df[df['location'].isin(countries)].copy()\n",
    "\n",
    "# Convert date to datetime\n",
    "df_filtered['date'] = pd.to_datetime(df_filtered['date'])\n",
    "\n",
    "# Handle missing values\n",
    "numeric_cols = ['total_cases', 'total_deaths', 'total_vaccinations']\n",
    "df_filtered[numeric_cols] = df_filtered[numeric_cols].fillna(method='ffill').fillna(0)"
   ]
  },
  {
   "cell_type": "code",
   "execution_count": null,
   "id": "e3af79ab",
   "metadata": {},
   "outputs": [],
   "source": [
    "# Plot total cases over time\n",
    "plt.figure(figsize=(12,6))\n",
    "sns.lineplot(data=df_filtered, x='date', y='total_cases', hue='location')\n",
    "plt.title('Total COVID-19 Cases Over Time')\n",
    "plt.xlabel('Date')\n",
    "plt.ylabel('Total Cases')\n",
    "plt.legend()\n",
    "plt.show()"
   ]
  },
  {
   "cell_type": "code",
   "execution_count": null,
   "id": "7ab1042b",
   "metadata": {},
   "outputs": [],
   "source": [
    "# Calculate death rate\n",
    "df_filtered['death_rate'] = df_filtered['total_deaths'] / df_filtered['total_cases']\n",
    "# Replace infinities and NaNs resulting from division by zero\n",
    "df_filtered['death_rate'] = df_filtered['death_rate'].replace([np.inf, -np.inf], np.nan).fillna(0)"
   ]
  },
  {
   "cell_type": "code",
   "execution_count": null,
   "id": "2a7e1041",
   "metadata": {},
   "outputs": [],
   "source": [
    "# Plot cumulative vaccinations over time\n",
    "plt.figure(figsize=(12,6))\n",
    "sns.lineplot(data=df_filtered, x='date', y='total_vaccinations', hue='location')\n",
    "plt.title('Cumulative Vaccinations Over Time')\n",
    "plt.xlabel('Date')\n",
    "plt.ylabel('Total Vaccinations')\n",
    "plt.legend()\n",
    "plt.show()"
   ]
  },
  {
   "cell_type": "code",
   "execution_count": null,
   "id": "1d5e404c",
   "metadata": {},
   "outputs": [],
   "source": [
    "# Optional: Choropleth Map\n",
    "latest = df[df['date'] == df['date'].max()]\n",
    "fig = px.choropleth(latest, locations='iso_code', color='total_cases',\n",
    "                    hover_name='location', title='Global Total COVID-19 Cases')\n",
    "fig.show()"
   ]
  },
  {
   "cell_type": "markdown",
   "id": "b216faed",
   "metadata": {},
   "source": [
    "## Key Insights\n",
    "- The United States shows the highest total case count among selected countries.\n",
    "- India had a rapid rise in cases during the second wave.\n",
    "- Kenya's vaccination rate picked up significantly in late 2021."
   ]
  },
  {
   "cell_type": "markdown",
   "id": "f4706d9e",
   "metadata": {},
   "source": [
    "## Conclusion\n",
    "This report provides an overview of the COVID-19 pandemic's trajectory in selected countries, with visualizations and computed metrics like death rates and vaccination trends."
   ]
  }
 ],
 "metadata": {},
 "nbformat": 4,
 "nbformat_minor": 5
}
